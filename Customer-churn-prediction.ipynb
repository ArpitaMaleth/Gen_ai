{
 "cells": [
  {
   "cell_type": "code",
   "execution_count": null,
   "metadata": {
    "_cell_guid": "b1076dfc-b9ad-4769-8c92-a6c4dae69d19",
    "_uuid": "8f2839f25d086af736a60e9eeb907d3b93b6e0e5",
    "execution": {
     "iopub.execute_input": "2025-08-11T18:43:10.292324Z",
     "iopub.status.busy": "2025-08-11T18:43:10.291814Z",
     "iopub.status.idle": "2025-08-11T18:43:10.327745Z",
     "shell.execute_reply": "2025-08-11T18:43:10.326766Z",
     "shell.execute_reply.started": "2025-08-11T18:43:10.292060Z"
    },
    "trusted": true
   },
   "outputs": [],
   "source": [
    "# This Python 3 environment comes with many helpful analytics libraries installed\n",
    "# It is defined by the kaggle/python Docker image: https://github.com/kaggle/docker-python\n",
    "# For example, here's several helpful packages to load\n",
    "\n",
    "import numpy as np # linear algebra\n",
    "import pandas as pd # data processing, CSV file I/O (e.g. pd.read_csv)\n",
    "\n",
    "# Input data files are available in the read-only \"../input/\" directory\n",
    "# For example, running this (by clicking run or pressing Shift+Enter) will list all files under the input directory\n",
    "\n",
    "import os\n",
    "for dirname, _, filenames in os.walk('/kaggle/input'):\n",
    "    for filename in filenames:\n",
    "        print(os.path.join(dirname, filename))\n",
    "\n",
    "# You can write up to 20GB to the current directory (/kaggle/working/) that gets preserved as output when you create a version using \"Save & Run All\" \n",
    "# You can also write temporary files to /kaggle/temp/, but they won't be saved outside of the current session"
   ]
  },
  {
   "cell_type": "code",
   "execution_count": null,
   "metadata": {
    "execution": {
     "iopub.execute_input": "2025-08-11T18:43:31.373696Z",
     "iopub.status.busy": "2025-08-11T18:43:31.373408Z",
     "iopub.status.idle": "2025-08-11T18:43:31.398791Z",
     "shell.execute_reply": "2025-08-11T18:43:31.397986Z",
     "shell.execute_reply.started": "2025-08-11T18:43:31.373663Z"
    },
    "trusted": true
   },
   "outputs": [],
   "source": [
    "df = pd.read_csv('Churn_data.csv')"
   ]
  },
  {
   "cell_type": "code",
   "execution_count": null,
   "metadata": {
    "execution": {
     "iopub.execute_input": "2025-08-11T18:43:37.140527Z",
     "iopub.status.busy": "2025-08-11T18:43:37.140225Z",
     "iopub.status.idle": "2025-08-11T18:43:37.166739Z",
     "shell.execute_reply": "2025-08-11T18:43:37.165841Z",
     "shell.execute_reply.started": "2025-08-11T18:43:37.140497Z"
    },
    "trusted": true
   },
   "outputs": [],
   "source": [
    "df.head()"
   ]
  },
  {
   "cell_type": "code",
   "execution_count": null,
   "metadata": {
    "execution": {
     "iopub.execute_input": "2025-08-11T18:43:44.341760Z",
     "iopub.status.busy": "2025-08-11T18:43:44.341383Z",
     "iopub.status.idle": "2025-08-11T18:43:44.354827Z",
     "shell.execute_reply": "2025-08-11T18:43:44.353716Z",
     "shell.execute_reply.started": "2025-08-11T18:43:44.341718Z"
    },
    "trusted": true
   },
   "outputs": [],
   "source": [
    "df.drop(columns = ['RowNumber','CustomerId','Surname'],inplace=True)"
   ]
  },
  {
   "cell_type": "code",
   "execution_count": null,
   "metadata": {
    "execution": {
     "iopub.execute_input": "2025-08-11T18:44:06.030887Z",
     "iopub.status.busy": "2025-08-11T18:44:06.030584Z",
     "iopub.status.idle": "2025-08-11T18:44:06.044653Z",
     "shell.execute_reply": "2025-08-11T18:44:06.043772Z",
     "shell.execute_reply.started": "2025-08-11T18:44:06.030852Z"
    },
    "trusted": true
   },
   "outputs": [],
   "source": [
    "df.head()"
   ]
  },
  {
   "cell_type": "code",
   "execution_count": null,
   "metadata": {
    "execution": {
     "iopub.execute_input": "2025-08-11T18:44:11.502952Z",
     "iopub.status.busy": "2025-08-11T18:44:11.502669Z",
     "iopub.status.idle": "2025-08-11T18:44:11.514932Z",
     "shell.execute_reply": "2025-08-11T18:44:11.513966Z",
     "shell.execute_reply.started": "2025-08-11T18:44:11.502923Z"
    },
    "trusted": true
   },
   "outputs": [],
   "source": [
    "df['Geography'].value_counts()"
   ]
  },
  {
   "cell_type": "code",
   "execution_count": null,
   "metadata": {
    "execution": {
     "iopub.execute_input": "2025-08-11T18:44:17.271609Z",
     "iopub.status.busy": "2025-08-11T18:44:17.271316Z",
     "iopub.status.idle": "2025-08-11T18:44:17.280246Z",
     "shell.execute_reply": "2025-08-11T18:44:17.279200Z",
     "shell.execute_reply.started": "2025-08-11T18:44:17.271575Z"
    },
    "trusted": true
   },
   "outputs": [],
   "source": [
    "df['Gender'].value_counts()"
   ]
  },
  {
   "cell_type": "code",
   "execution_count": null,
   "metadata": {
    "execution": {
     "iopub.execute_input": "2025-08-11T18:44:21.676848Z",
     "iopub.status.busy": "2025-08-11T18:44:21.676541Z",
     "iopub.status.idle": "2025-08-11T18:44:21.692004Z",
     "shell.execute_reply": "2025-08-11T18:44:21.691036Z",
     "shell.execute_reply.started": "2025-08-11T18:44:21.676813Z"
    },
    "trusted": true
   },
   "outputs": [],
   "source": [
    "df = pd.get_dummies(df,columns=['Geography','Gender'],drop_first=True)"
   ]
  },
  {
   "cell_type": "code",
   "execution_count": null,
   "metadata": {
    "execution": {
     "iopub.execute_input": "2025-08-11T18:44:25.444631Z",
     "iopub.status.busy": "2025-08-11T18:44:25.444359Z",
     "iopub.status.idle": "2025-08-11T18:44:25.458882Z",
     "shell.execute_reply": "2025-08-11T18:44:25.458086Z",
     "shell.execute_reply.started": "2025-08-11T18:44:25.444603Z"
    },
    "trusted": true
   },
   "outputs": [],
   "source": [
    "df.head()"
   ]
  },
  {
   "cell_type": "code",
   "execution_count": null,
   "metadata": {
    "execution": {
     "iopub.execute_input": "2025-08-11T18:45:36.990815Z",
     "iopub.status.busy": "2025-08-11T18:45:36.990430Z",
     "iopub.status.idle": "2025-08-11T18:45:38.180213Z",
     "shell.execute_reply": "2025-08-11T18:45:38.179499Z",
     "shell.execute_reply.started": "2025-08-11T18:45:36.990775Z"
    },
    "trusted": true
   },
   "outputs": [],
   "source": [
    "X = df.drop(columns=['Exited'])\n",
    "y = df['Exited'].values\n",
    "\n",
    "from sklearn.model_selection import train_test_split\n",
    "X_train,X_test,y_train,y_test = train_test_split(X,y,test_size=0.2,random_state=0)"
   ]
  },
  {
   "cell_type": "code",
   "execution_count": null,
   "metadata": {
    "execution": {
     "iopub.execute_input": "2025-08-11T18:45:51.932634Z",
     "iopub.status.busy": "2025-08-11T18:45:51.932329Z",
     "iopub.status.idle": "2025-08-11T18:45:51.946097Z",
     "shell.execute_reply": "2025-08-11T18:45:51.945169Z",
     "shell.execute_reply.started": "2025-08-11T18:45:51.932599Z"
    },
    "trusted": true
   },
   "outputs": [],
   "source": [
    "from sklearn.preprocessing import StandardScaler\n",
    "scaler = StandardScaler()\n",
    "\n",
    "X_train_trf = scaler.fit_transform(X_train)\n",
    "X_test_trf = scaler.transform(X_test)"
   ]
  },
  {
   "cell_type": "code",
   "execution_count": null,
   "metadata": {
    "execution": {
     "iopub.execute_input": "2025-08-11T18:45:55.618845Z",
     "iopub.status.busy": "2025-08-11T18:45:55.618538Z",
     "iopub.status.idle": "2025-08-11T18:46:01.915221Z",
     "shell.execute_reply": "2025-08-11T18:46:01.914280Z",
     "shell.execute_reply.started": "2025-08-11T18:45:55.618811Z"
    },
    "trusted": true
   },
   "outputs": [],
   "source": [
    "import tensorflow\n",
    "from tensorflow import keras\n",
    "from tensorflow.keras import Sequential \n",
    "from tensorflow.keras.layers import Dense"
   ]
  },
  {
   "cell_type": "code",
   "execution_count": null,
   "metadata": {
    "execution": {
     "iopub.execute_input": "2025-08-11T18:46:14.185223Z",
     "iopub.status.busy": "2025-08-11T18:46:14.184336Z",
     "iopub.status.idle": "2025-08-11T18:46:14.300908Z",
     "shell.execute_reply": "2025-08-11T18:46:14.300020Z",
     "shell.execute_reply.started": "2025-08-11T18:46:14.185181Z"
    },
    "trusted": true
   },
   "outputs": [],
   "source": [
    "model = Sequential()\n",
    "\n",
    "model.add(Dense(11,activation='sigmoid',input_dim=11))\n",
    "model.add(Dense(11,activation='sigmoid'))\n",
    "model.add(Dense(1,activation='sigmoid'))"
   ]
  },
  {
   "cell_type": "code",
   "execution_count": null,
   "metadata": {
    "execution": {
     "iopub.execute_input": "2025-08-11T18:46:19.011172Z",
     "iopub.status.busy": "2025-08-11T18:46:19.010881Z",
     "iopub.status.idle": "2025-08-11T18:46:19.019924Z",
     "shell.execute_reply": "2025-08-11T18:46:19.018892Z",
     "shell.execute_reply.started": "2025-08-11T18:46:19.011143Z"
    },
    "trusted": true
   },
   "outputs": [],
   "source": [
    "model.summary()"
   ]
  },
  {
   "cell_type": "code",
   "execution_count": null,
   "metadata": {
    "execution": {
     "iopub.execute_input": "2025-08-11T18:46:29.015451Z",
     "iopub.status.busy": "2025-08-11T18:46:29.015150Z",
     "iopub.status.idle": "2025-08-11T18:46:29.030248Z",
     "shell.execute_reply": "2025-08-11T18:46:29.029310Z",
     "shell.execute_reply.started": "2025-08-11T18:46:29.015417Z"
    },
    "trusted": true
   },
   "outputs": [],
   "source": [
    "model.compile(optimizer='Adam',loss='binary_crossentropy',metrics=['accuracy'])"
   ]
  },
  {
   "cell_type": "code",
   "execution_count": null,
   "metadata": {
    "execution": {
     "iopub.execute_input": "2025-08-11T18:46:33.281765Z",
     "iopub.status.busy": "2025-08-11T18:46:33.280981Z",
     "iopub.status.idle": "2025-08-11T18:46:59.987309Z",
     "shell.execute_reply": "2025-08-11T18:46:59.986379Z",
     "shell.execute_reply.started": "2025-08-11T18:46:33.281723Z"
    },
    "trusted": true
   },
   "outputs": [],
   "source": [
    "history = model.fit(X_train,y_train,batch_size=50,epochs=100,verbose=1,validation_split=0.2)"
   ]
  },
  {
   "cell_type": "code",
   "execution_count": null,
   "metadata": {
    "execution": {
     "iopub.execute_input": "2025-08-11T18:47:10.897785Z",
     "iopub.status.busy": "2025-08-11T18:47:10.896982Z",
     "iopub.status.idle": "2025-08-11T18:47:11.091170Z",
     "shell.execute_reply": "2025-08-11T18:47:11.090384Z",
     "shell.execute_reply.started": "2025-08-11T18:47:10.897746Z"
    },
    "trusted": true
   },
   "outputs": [],
   "source": [
    "y_pred = model.predict(X_test)"
   ]
  },
  {
   "cell_type": "code",
   "execution_count": null,
   "metadata": {
    "execution": {
     "iopub.execute_input": "2025-08-11T18:47:14.895384Z",
     "iopub.status.busy": "2025-08-11T18:47:14.895047Z",
     "iopub.status.idle": "2025-08-11T18:47:14.901839Z",
     "shell.execute_reply": "2025-08-11T18:47:14.901065Z",
     "shell.execute_reply.started": "2025-08-11T18:47:14.895349Z"
    },
    "trusted": true
   },
   "outputs": [],
   "source": [
    "y_pred"
   ]
  },
  {
   "cell_type": "code",
   "execution_count": null,
   "metadata": {
    "execution": {
     "iopub.execute_input": "2025-08-11T18:47:20.562603Z",
     "iopub.status.busy": "2025-08-11T18:47:20.562305Z",
     "iopub.status.idle": "2025-08-11T18:47:20.567300Z",
     "shell.execute_reply": "2025-08-11T18:47:20.566366Z",
     "shell.execute_reply.started": "2025-08-11T18:47:20.562567Z"
    },
    "trusted": true
   },
   "outputs": [],
   "source": [
    "y_pred = y_pred.argmax(axis=-1)"
   ]
  },
  {
   "cell_type": "code",
   "execution_count": null,
   "metadata": {
    "execution": {
     "iopub.execute_input": "2025-08-11T18:47:25.042584Z",
     "iopub.status.busy": "2025-08-11T18:47:25.041895Z",
     "iopub.status.idle": "2025-08-11T18:47:25.049383Z",
     "shell.execute_reply": "2025-08-11T18:47:25.048513Z",
     "shell.execute_reply.started": "2025-08-11T18:47:25.042541Z"
    },
    "trusted": true
   },
   "outputs": [],
   "source": [
    "from sklearn.metrics import accuracy_score\n",
    "accuracy_score(y_test,y_pred)"
   ]
  },
  {
   "cell_type": "code",
   "execution_count": null,
   "metadata": {
    "execution": {
     "iopub.execute_input": "2025-08-11T18:47:30.961672Z",
     "iopub.status.busy": "2025-08-11T18:47:30.961343Z",
     "iopub.status.idle": "2025-08-11T18:47:31.244278Z",
     "shell.execute_reply": "2025-08-11T18:47:31.243405Z",
     "shell.execute_reply.started": "2025-08-11T18:47:30.961637Z"
    },
    "trusted": true
   },
   "outputs": [],
   "source": [
    "import matplotlib.pyplot as plt\n",
    "\n",
    "plt.plot(history.history['loss'])\n",
    "plt.plot(history.history['val_loss'])"
   ]
  },
  {
   "cell_type": "code",
   "execution_count": null,
   "metadata": {
    "execution": {
     "iopub.execute_input": "2025-08-11T18:48:00.815380Z",
     "iopub.status.busy": "2025-08-11T18:48:00.815055Z",
     "iopub.status.idle": "2025-08-11T18:48:00.976174Z",
     "shell.execute_reply": "2025-08-11T18:48:00.975177Z",
     "shell.execute_reply.started": "2025-08-11T18:48:00.815348Z"
    },
    "trusted": true
   },
   "outputs": [],
   "source": [
    "plt.plot(history.history['accuracy'])\n",
    "plt.plot(history.history['val_accuracy'])\n",
    "plt.show()"
   ]
  }
 ],
 "metadata": {
  "kaggle": {
   "accelerator": "none",
   "dataSources": [
    {
     "datasetId": 869651,
     "sourceId": 1481789,
     "sourceType": "datasetVersion"
    }
   ],
   "dockerImageVersionId": 30170,
   "isGpuEnabled": false,
   "isInternetEnabled": false,
   "language": "python",
   "sourceType": "notebook"
  },
  "kernelspec": {
   "display_name": "Python 3",
   "language": "python",
   "name": "python3"
  },
  "language_info": {
   "codemirror_mode": {
    "name": "ipython",
    "version": 3
   },
   "file_extension": ".py",
   "mimetype": "text/x-python",
   "name": "python",
   "nbconvert_exporter": "python",
   "pygments_lexer": "ipython3",
   "version": "3.12.8"
  }
 },
 "nbformat": 4,
 "nbformat_minor": 4
}
